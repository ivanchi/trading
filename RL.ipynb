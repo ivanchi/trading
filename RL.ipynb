{
 "cells": [
  {
   "cell_type": "code",
   "execution_count": 1,
   "metadata": {
    "collapsed": false
   },
   "outputs": [
    {
     "name": "stderr",
     "output_type": "stream",
     "text": [
      "Using TensorFlow backend.\n"
     ]
    }
   ],
   "source": [
    "from math import log\n",
    "import matplotlib.pyplot as plt\n",
    "from math import log, exp\n",
    "import numpy as np\n",
    "from keras.models import Sequential\n",
    "from keras.layers import Dense, Activation\n",
    "from keras import optimizers\n",
    "from keras.callbacks import History\n",
    "from keras.layers import LSTM\n",
    "from keras.layers import RNN\n",
    "from keras.layers.recurrent import GRU\n",
    "from keras.layers.advanced_activations import ELU\n",
    "from keras import initializers\n",
    "from collections import deque\n",
    "import random\n",
    "import copy\n",
    "import datetime as dt\n",
    "from matplotlib import style\n",
    "import pandas as pd\n",
    "import os\n",
    "%matplotlib inline"
   ]
  },
  {
   "cell_type": "code",
   "execution_count": 2,
   "metadata": {
    "collapsed": true
   },
   "outputs": [],
   "source": [
    "class Param:\n",
    "    K = 5\n",
    "    M = 10\n",
    "    pSize = 1000\n",
    "    tickSize = 0.001\n",
    "    lotSize = 100\n",
    "    pe = 50\n",
    "    sigma = 0.1\n",
    "    lam = log(2)/5\n",
    "    kappa = 10**(-14)\n",
    "    nTrain = 10**4\n",
    "    epsilon = 0.1\n",
    "    alpha = 0.01\n",
    "    gamma = 0.99\n",
    "    capital = 50000"
   ]
  },
  {
   "cell_type": "code",
   "execution_count": 3,
   "metadata": {
    "collapsed": true
   },
   "outputs": [],
   "source": [
    "class ActionSpace:\n",
    "    def create(self):\n",
    "        actions = []\n",
    "        for i in range(-1*Param.K, Param.K + 1):\n",
    "            actions.append(i*Param.lotSize)\n",
    "        return actions"
   ]
  },
  {
   "cell_type": "code",
   "execution_count": 4,
   "metadata": {
    "collapsed": false
   },
   "outputs": [
    {
     "name": "stdout",
     "output_type": "stream",
     "text": [
      "0.001\n",
      "0.4\n"
     ]
    }
   ],
   "source": [
    "class Cost(object):\n",
    "    def getSpreadCost(self, dn):\n",
    "        return Param.tickSize * abs(dn)\n",
    "    \n",
    "    def getImpactCost(self, dn):\n",
    "        #return dn ** 2 * Param.tickSize/Param.lotSize\n",
    "        return 0\n",
    "    \n",
    "    def getTotalCost(self, dn):\n",
    "        return self.getSpreadCost(dn) + self.getImpactCost(dn)\n",
    "    \n",
    "if __name__ == '__main__':\n",
    "    print(Param.tickSize)\n",
    "    print(Cost().getTotalCost(400))"
   ]
  },
  {
   "cell_type": "code",
   "execution_count": 5,
   "metadata": {
    "collapsed": false
   },
   "outputs": [
    {
     "name": "stdout",
     "output_type": "stream",
     "text": [
      "1000\n"
     ]
    }
   ],
   "source": [
    "class HoldingSpace:\n",
    "    hold = []\n",
    "    def create(self):\n",
    "        for i in range(-1*Param.M, Param.M+1):\n",
    "            self.hold.append(i * Param.lotSize)\n",
    "        return self.hold\n",
    "    \n",
    "    def getMax():\n",
    "        return Param.M*Param.lotSize\n",
    "    \n",
    "    def getMin():\n",
    "        return -1*Param.M*Param.lotSize\n",
    "\n",
    "if __name__ == '__main__':\n",
    "    print(HoldingSpace.getMax())"
   ]
  },
  {
   "cell_type": "code",
   "execution_count": 6,
   "metadata": {
    "collapsed": false
   },
   "outputs": [
    {
     "data": {
      "image/png": "[encoded data removed]",
      "text/plain": [
       "<matplotlib.figure.Figure at 0x127b0c940>"
      ]
     },
     "metadata": {},
     "output_type": "display_data"
    }
   ],
   "source": [
    "class PriceSampler(object):\n",
    "    def genPrice(self, size):\n",
    "        price = []\n",
    "        pe = Param.pe\n",
    "        sigma = Param.sigma\n",
    "        lam = Param.lam\n",
    "        \n",
    "        price.append(pe)\n",
    "        for i in range(size):\n",
    "            y = log(pe/pe)\n",
    "            y += - lam * y + sigma * np.random.normal()\n",
    "            pnew = pe * exp(y)\n",
    "            price.append(pnew)\n",
    "        return price\n",
    "    \n",
    "    def main(self):\n",
    "        samples = self.genPrice(1000)\n",
    "        plt.plot(samples)\n",
    "        plt.show()\n",
    "        \n",
    "if __name__ == '__main__':\n",
    "    PriceSampler().main()\n",
    "        "
   ]
  },
  {
   "cell_type": "code",
   "execution_count": 7,
   "metadata": {
    "collapsed": true
   },
   "outputs": [],
   "source": [
    "class PriceSpace(object):\n",
    "    def create(self):\n",
    "        L = []\n",
    "        for i in range(Param.pSize):\n",
    "            L.append(round(Param.tickSize*i, 1))\n",
    "        return L"
   ]
  },
  {
   "cell_type": "code",
   "execution_count": 8,
   "metadata": {
    "collapsed": true
   },
   "outputs": [],
   "source": [
    "class State(object):\n",
    "    def __init__(self, price_changes, price, hold):\n",
    "        self.price_changes = price_changes\n",
    "        self.price = price\n",
    "        self.hold = hold\n",
    "        \n",
    "    def tolist(self):\n",
    "        nprice = list(self.price_changes)\n",
    "        nprice.append(self.price)\n",
    "        nprice.append(self.hold)\n",
    "        return nprice"
   ]
  },
  {
   "cell_type": "code",
   "execution_count": 9,
   "metadata": {
    "collapsed": true
   },
   "outputs": [],
   "source": [
    "class Result:\n",
    "    def __init__(self, currState, nextState):\n",
    "        self.currState = currState\n",
    "        self.nextState = nextState\n",
    "        \n",
    "    def getReward(self):\n",
    "        pnl = self.getPnl()\n",
    "        reward = pnl - 0.5 * Param.kappa * pnl**2\n",
    "        return reward\n",
    "    \n",
    "    def getReturn(self, capital):\n",
    "        reward = self.getReward()\n",
    "        rt = reward/capital\n",
    "        return rt\n",
    "    \n",
    "    def getPnl(self):\n",
    "        currHolding = self.currState.hold\n",
    "        nextHolding = self.nextState.hold\n",
    "        currPrice = self.currState.price\n",
    "        nextPrice = self.nextState.price\n",
    "        \n",
    "        dn = nextHolding - currHolding\n",
    "        cost = Cost().getTotalCost(dn)\n",
    "        pnl = nextHolding * (nextPrice - currPrice) - cost\n",
    "        return pnl"
   ]
  },
  {
   "cell_type": "code",
   "execution_count": 10,
   "metadata": {
    "collapsed": true
   },
   "outputs": [],
   "source": [
    "class DeepQnet:\n",
    "    actionSpace = ActionSpace().create()\n",
    "    def build_model(self):\n",
    "        model = Sequential()\n",
    "        model.add(GRU(64, input_shape=(1,7), return_sequences=True))\n",
    "        model.add(GRU(32, return_sequences=True))\n",
    "        model.add(GRU(16))\n",
    "        #model.add(Dense(200, activation='relu'))\n",
    "        #model.add(Dense(200, activation='relu'))\n",
    "        #model.add(GRU(400, return_sequences=True))\n",
    "        model.add(Dense(32, activation=ELU()))\n",
    "        model.add(Dense(len(self.actionSpace), activation='linear'))\n",
    "        model.compile(loss='mse', optimizer=optimizers.Adam(lr=0.001), metrics = ['accuracy'])\n",
    "        return model"
   ]
  },
  {
   "cell_type": "code",
   "execution_count": 15,
   "metadata": {
    "collapsed": false
   },
   "outputs": [
    {
     "name": "stderr",
     "output_type": "stream",
     "text": [
      "/Users/IVAN/anaconda3/lib/python3.5/site-packages/keras/activations.py:115: UserWarning: Do not pass a layer instance (such as ELU) as the activation argument of another layer. Instead, advanced activation layers should be used just like any other layer in a model.\n",
      "  identifier=identifier.__class__.__name__))\n"
     ]
    },
    {
     "name": "stdout",
     "output_type": "stream",
     "text": [
      "100\n",
      "200\n",
      "300\n",
      "400\n",
      "500\n",
      "600\n",
      "700\n",
      "800\n",
      "900\n",
      "1000\n"
     ]
    },
    {
     "data": {
      "image/png": "[encoded data removed]",
      "text/plain": [
       "<matplotlib.figure.Figure at 0x135584278>"
      ]
     },
     "metadata": {},
     "output_type": "display_data"
    }
   ],
   "source": [
    "class QLearner:\n",
    "    maxHold = HoldingSpace.getMax()\n",
    "    minHold = HoldingSpace.getMin()\n",
    "    \n",
    "    actionSpace = ActionSpace().create()\n",
    "    model = DeepQnet().build_model()\n",
    "    memory = deque(maxlen = 20)\n",
    "    batch_size = 10\n",
    "    \n",
    "    def qLearning(self):\n",
    "        curr_price_changes = deque(maxlen=5)\n",
    "        losses = []\n",
    "        currHolding = 0\n",
    "        #pricePath = PriceSampler().genPrice(5*Param.nTrain)\n",
    "        pricePath = train\n",
    "        for i in range(1, len(pricePath)-1):\n",
    "            #see the price update but havent take action yet\n",
    "            curr_price_changes.append(pricePath[i] - pricePath[i-1])\n",
    "            if i < 5:\n",
    "                continue\n",
    "            currState = State(curr_price_changes, pricePath[i], currHolding)\n",
    "            #choose action\n",
    "            action_index = np.argmax(self.model.predict(np.reshape(currState.tolist(), [1,1,7])))\n",
    "            shares_traded = self.actionSpace[action_index]\n",
    "            \n",
    "            #action to the next state\n",
    "            nextHolding = max(min(currHolding + shares_traded, self.maxHold), self.minHold)\n",
    "            next_price_changes = copy.copy(curr_price_changes)\n",
    "            next_price_changes.append(pricePath[i+1] - pricePath[i])\n",
    "            nextState = State(next_price_changes, pricePath[i+1], nextHolding)\n",
    "            \n",
    "            #observe reward\n",
    "            reward = Result(currState, nextState).getReward()\n",
    "            self.memory.append((currState, action_index, reward, nextState))\n",
    "            currState = np.reshape(currState.tolist(), [1,1,7])\n",
    "            nextState = np.reshape(nextState.tolist(), [1,1,7])\n",
    "            target = reward + Param.gamma * np.amax(self.model.predict(nextState)[0])\n",
    "            target_f = self.model.predict(currState)\n",
    "            target_f[0][action_index] = target\n",
    "            history = self.model.fit(currState, target_f, epochs = 1, verbose = 0)\n",
    "            losses.append(history.history['loss'][-1])\n",
    "            currHolding = nextHolding\n",
    "#             if((i-198)%128 == 0 and i > 498):\n",
    "#                 minibatch = random.sample(self.memory, self.batch_size)\n",
    "#                 for currState, action_index, reward, nextState in minibatch:\n",
    "#                     #update Q matrix\n",
    "#                     currState = np.reshape(currState.tolist(), [1,1,200])\n",
    "#                     nextState = np.reshape(nextState.tolist(), [1,1,200])\n",
    "#                     target = reward + Param.gamma*np.amax(self.model.predict(nextState)[0])\n",
    "            if i%100 == 0: print(i)\n",
    "        plt.plot(losses)\n",
    "        return self.model\n",
    "    \n",
    "    def run(self, model):\n",
    "        capital = Param.capital\n",
    "        curr_price_changes = deque(maxlen=5)\n",
    "        losses = []\n",
    "        ret = []\n",
    "        currHolding = 0\n",
    "        pricePath = test\n",
    "        for i in range(1, len(pricePath)-1):\n",
    "            #see the price update but havent take action yet\n",
    "            curr_price_changes.append(pricePath[i] - pricePath[i-1])\n",
    "            if i < 5:\n",
    "                continue\n",
    "            currState = State(curr_price_changes, pricePath[i], currHolding)\n",
    "            #choose action\n",
    "            action_index = np.argmax(model.predict(np.reshape(currState.tolist(), [1,1,7])))\n",
    "            shares_traded = self.actionSpace[action_index]\n",
    "            \n",
    "            #action to the next state\n",
    "            nextHolding = max(min(currHolding + shares_traded, self.maxHold), self.minHold)\n",
    "            next_price_changes = copy.copy(curr_price_changes)\n",
    "            next_price_changes.append(pricePath[i+1] - pricePath[i])\n",
    "            nextState = State(next_price_changes, pricePath[i+1], nextHolding)\n",
    "            \n",
    "            #observe reward\n",
    "            reward = Result(currState, nextState).getReward()\n",
    "            capital += reward\n",
    "            rt = Result(currState, nextState).getReturn(capital)\n",
    "            currHolding = nextHolding\n",
    "            ret.append(rt)\n",
    "        return ret\n",
    "\n",
    "if __name__ == '__main__':\n",
    "    df = pd.read_csv('stocks/AAPL_data.csv')\n",
    "    end = int(0.8*len(df))\n",
    "    train, test = df['close'][:end].reset_index(drop=True), df['close'][end:].reset_index(drop=True)\n",
    "    model = QLearner().qLearning()\n",
    "    ret = QLearner().run(model)"
   ]
  },
  {
   "cell_type": "code",
   "execution_count": 21,
   "metadata": {
    "collapsed": false
   },
   "outputs": [
    {
     "data": {
      "text/plain": [
       "Text(0.5,1,'Daily Return')"
      ]
     },
     "execution_count": 21,
     "metadata": {},
     "output_type": "execute_result"
    },
    {
     "data": {
      "image/png": "[encoded data removed]",
      "text/plain": [
       "<matplotlib.figure.Figure at 0x1355c7550>"
      ]
     },
     "metadata": {},
     "output_type": "display_data"
    }
   ],
   "source": [
    "plt.plot(ret)\n",
    "plt.title('Daily Return')"
   ]
  },
  {
   "cell_type": "code",
   "execution_count": 24,
   "metadata": {
    "collapsed": false
   },
   "outputs": [],
   "source": [
    "df = pd.DataFrame(ret)"
   ]
  },
  {
   "cell_type": "code",
   "execution_count": 28,
   "metadata": {
    "collapsed": false
   },
   "outputs": [
    {
     "data": {
      "text/plain": [
       "0.09708061201114535"
      ]
     },
     "execution_count": 28,
     "metadata": {},
     "output_type": "execute_result"
    }
   ],
   "source": [
    "df[0].autocorr(lag=5)"
   ]
  },
  {
   "cell_type": "code",
   "execution_count": 29,
   "metadata": {
    "collapsed": false
   },
   "outputs": [
    {
     "data": {
      "text/plain": [
       "0.4201863347528484"
      ]
     },
     "execution_count": 29,
     "metadata": {},
     "output_type": "execute_result"
    }
   ],
   "source": [
    "df[0].std() * 252**(0.5)"
   ]
  },
  {
   "cell_type": "code",
   "execution_count": 30,
   "metadata": {
    "collapsed": false
   },
   "outputs": [
    {
     "name": "stdout",
     "output_type": "stream",
     "text": [
      "0.46551436843149047\n"
     ]
    }
   ],
   "source": [
    "mulvar = 252*df[0].var()*(1 + 2*sum([(1 - i/252) * df[0].autocorr(lag=i) for i in range(1, 6)]))\n",
    "print(mulvar**(0.5))"
   ]
  },
  {
   "cell_type": "code",
   "execution_count": 31,
   "metadata": {
    "collapsed": false
   },
   "outputs": [
    {
     "name": "stdout",
     "output_type": "stream",
     "text": [
      "0.8761560145563383\n"
     ]
    }
   ],
   "source": [
    "sharpe = ((df[0].mean()+1)**252-1)/(df[0].std()*252**(1/2))\n",
    "print(sharpe)"
   ]
  },
  {
   "cell_type": "code",
   "execution_count": 32,
   "metadata": {
    "collapsed": false
   },
   "outputs": [
    {
     "name": "stdout",
     "output_type": "stream",
     "text": [
      "Sharpe after serial:  0.7908430102137037\n"
     ]
    }
   ],
   "source": [
    "print('Sharpe after serial: ', ((df[0].mean()+1)**252-1)/((mulvar)**(0.5)))"
   ]
  },
  {
   "cell_type": "code",
   "execution_count": 33,
   "metadata": {
    "collapsed": false
   },
   "outputs": [
    {
     "name": "stdout",
     "output_type": "stream",
     "text": [
      "Sortino:  1.2805873017632767\n"
     ]
    }
   ],
   "source": [
    "print('Sortino: ', ((df[0].mean()+1)**252-1)/(252*sum(df[0].apply(lambda x: min(x, 0)**2))/len(df[0]))**(0.5))"
   ]
  },
  {
   "cell_type": "code",
   "execution_count": 34,
   "metadata": {
    "collapsed": true
   },
   "outputs": [],
   "source": [
    "import numpy as np\n",
    "def maxdrawdown(arr):\n",
    "    i = np.argmax((np.maximum.accumulate(arr) - arr)/np.maximum.accumulate(arr)) # end of the period\n",
    "    j = np.argmax(arr[:i]) # start of period\n",
    "    return (1-arr[i]/arr[j])"
   ]
  },
  {
   "cell_type": "code",
   "execution_count": 35,
   "metadata": {
    "collapsed": true
   },
   "outputs": [],
   "source": [
    "def maxdd(arr):\n",
    "    maxim = arr.max()\n",
    "    y = arr.apply(lambda x: abs(min(0, (x-maxim)/maxim)))\n",
    "    return y.max()"
   ]
  },
  {
   "cell_type": "code",
   "execution_count": 36,
   "metadata": {
    "collapsed": false
   },
   "outputs": [
    {
     "name": "stdout",
     "output_type": "stream",
     "text": [
      "Calmar: 0.1427963131251976\n"
     ]
    },
    {
     "name": "stderr",
     "output_type": "stream",
     "text": [
      "/Users/IVAN/anaconda3/lib/python3.5/site-packages/numpy/core/fromnumeric.py:51: FutureWarning: 'argmax' is deprecated. Use 'idxmax' instead. The behavior of 'argmax' will be corrected to return the positional maximum in the future. Use 'series.values.argmax' to get the position of the maximum now.\n",
      "  return getattr(obj, method)(*args, **kwds)\n"
     ]
    }
   ],
   "source": [
    "print('Calmar:', ((df[0].mean()+1)**252-1)/maxdrawdown(df[0]))"
   ]
  },
  {
   "cell_type": "code",
   "execution_count": 37,
   "metadata": {
    "collapsed": true
   },
   "outputs": [],
   "source": [
    "def omega_ratio(returns, risk_free=0.0, required_return=0.0,\n",
    "                annualization=252):\n",
    "\n",
    "    if len(returns) < 2:\n",
    "        return np.nan\n",
    "\n",
    "    if annualization == 1:\n",
    "        return_threshold = required_return\n",
    "    elif required_return <= -1:\n",
    "        return np.nan\n",
    "    else:\n",
    "        return_threshold = (1 + required_return) ** \\\n",
    "            (1. / annualization) - 1\n",
    "\n",
    "    returns_less_thresh = returns - risk_free - return_threshold\n",
    "\n",
    "    numer = sum(returns_less_thresh[returns_less_thresh > 0.0])\n",
    "    denom = -1.0 * sum(returns_less_thresh[returns_less_thresh < 0.0])\n",
    "\n",
    "    if denom > 0.0:\n",
    "        return numer / denom\n",
    "    else:\n",
    "        return np.nan"
   ]
  },
  {
   "cell_type": "code",
   "execution_count": 38,
   "metadata": {
    "collapsed": false
   },
   "outputs": [
    {
     "data": {
      "text/plain": [
       "1.1448006194498928"
      ]
     },
     "execution_count": 38,
     "metadata": {},
     "output_type": "execute_result"
    }
   ],
   "source": [
    "omega_ratio(df[0])"
   ]
  },
  {
   "cell_type": "code",
   "execution_count": 39,
   "metadata": {
    "collapsed": true
   },
   "outputs": [],
   "source": [
    "import scipy.stats as stats"
   ]
  },
  {
   "cell_type": "code",
   "execution_count": 40,
   "metadata": {
    "collapsed": false
   },
   "outputs": [
    {
     "data": {
      "text/plain": [
       "0.08211753470316473"
      ]
     },
     "execution_count": 40,
     "metadata": {},
     "output_type": "execute_result"
    }
   ],
   "source": [
    "stats.skew(df[0])"
   ]
  },
  {
   "cell_type": "code",
   "execution_count": 41,
   "metadata": {
    "collapsed": false
   },
   "outputs": [
    {
     "data": {
      "text/plain": [
       "3.9999110716661166"
      ]
     },
     "execution_count": 41,
     "metadata": {},
     "output_type": "execute_result"
    }
   ],
   "source": [
    "stats.kurtosis(df[0])"
   ]
  },
  {
   "cell_type": "code",
   "execution_count": null,
   "metadata": {
    "collapsed": true
   },
   "outputs": [],
   "source": []
  }
 ],
 "metadata": {
  "anaconda-cloud": {},
  "kernelspec": {
   "display_name": "Python [conda env:anaconda3]",
   "language": "python",
   "name": "conda-env-anaconda3-py"
  },
  "language_info": {
   "codemirror_mode": {
    "name": "ipython",
    "version": 3
   },
   "file_extension": ".py",
   "mimetype": "text/x-python",
   "name": "python",
   "nbconvert_exporter": "python",
   "pygments_lexer": "ipython3",
   "version": "3.5.2"
  }
 },
 "nbformat": 4,
 "nbformat_minor": 2
}
